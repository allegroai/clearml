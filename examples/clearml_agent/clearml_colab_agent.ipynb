{
  "nbformat": 4,
  "nbformat_minor": 0,
  "metadata": {
    "colab": {
      "name": "clearml_colab_agent.ipynb",
      "provenance": [],
      "collapsed_sections": [],
      "toc_visible": true,
      "authorship_tag": "ABX9TyOI4OaE8sEEeC0P/iIV3Y1O",
      "include_colab_link": true
    },
    "kernelspec": {
      "name": "python3",
      "display_name": "Python 3"
    },
    "language_info": {
      "name": "python"
    }
  },
  "cells": [
    {
      "cell_type": "markdown",
      "metadata": {
        "id": "view-in-github",
        "colab_type": "text"
      },
      "source": [
        "<a href=\"https://colab.research.google.com/github/pollfly/clearml/blob/master/examples/clearml_agent/clearml_colab_agent.ipynb\" target=\"_parent\"><img src=\"https://colab.research.google.com/assets/colab-badge.svg\" alt=\"Open In Colab\"/></a>"
      ]
    },
    {
      "cell_type": "markdown",
      "metadata": {
        "id": "mC3A4rio6Y--"
      },
      "source": [
        "# Google Colab Used to Launch ClearML Agent\n"
      ]
    },
    {
      "cell_type": "markdown",
      "metadata": {
        "id": "EPYjmFLy1zuC"
      },
      "source": [
        "## Step 1: Install all necessary packages"
      ]
    },
    {
      "cell_type": "code",
      "metadata": {
        "id": "DwFC3fL8JAP3",
        "colab": {
          "base_uri": "https://localhost:8080/"
        },
        "outputId": "3bcf5cb5-2463-4a4b-a3a7-c09c1053a5f1"
      },
      "source": [
        "!pip install clearml\n",
        "!pip install clearml-agent"
      ],
      "execution_count": 11,
      "outputs": [
        {
          "output_type": "stream",
          "text": [
            "Requirement already satisfied: clearml in /usr/local/lib/python3.7/dist-packages (1.0.2)\n",
            "Requirement already satisfied: numpy>=1.10 in /usr/local/lib/python3.7/dist-packages (from clearml) (1.19.5)\n",
            "Requirement already satisfied: pyparsing>=2.0.3 in /usr/local/lib/python3.7/dist-packages (from clearml) (2.4.7)\n",
            "Requirement already satisfied: PyYAML>=3.12 in /usr/local/lib/python3.7/dist-packages (from clearml) (3.13)\n",
            "Requirement already satisfied: pathlib2>=2.3.0 in /usr/local/lib/python3.7/dist-packages (from clearml) (2.3.5)\n",
            "Requirement already satisfied: pyjwt<3.0.0,>=1.6.4 in /usr/local/lib/python3.7/dist-packages (from clearml) (2.0.1)\n",
            "Requirement already satisfied: Pillow>=4.1.1 in /usr/local/lib/python3.7/dist-packages (from clearml) (7.1.2)\n",
            "Requirement already satisfied: humanfriendly>=2.1 in /usr/local/lib/python3.7/dist-packages (from clearml) (9.1)\n",
            "Requirement already satisfied: python-dateutil>=2.6.1 in /usr/local/lib/python3.7/dist-packages (from clearml) (2.8.1)\n",
            "Requirement already satisfied: six>=1.11.0 in /usr/local/lib/python3.7/dist-packages (from clearml) (1.15.0)\n",
            "Requirement already satisfied: psutil>=3.4.2 in /usr/local/lib/python3.7/dist-packages (from clearml) (5.4.8)\n",
            "Requirement already satisfied: attrs>=18.0 in /usr/local/lib/python3.7/dist-packages (from clearml) (20.3.0)\n",
            "Requirement already satisfied: urllib3>=1.21.1 in /usr/local/lib/python3.7/dist-packages (from clearml) (1.24.3)\n",
            "Requirement already satisfied: furl>=2.0.0 in /usr/local/lib/python3.7/dist-packages (from clearml) (2.1.2)\n",
            "Requirement already satisfied: jsonschema>=2.6.0 in /usr/local/lib/python3.7/dist-packages (from clearml) (2.6.0)\n",
            "Requirement already satisfied: requests>=2.20.0 in /usr/local/lib/python3.7/dist-packages (from clearml) (2.23.0)\n",
            "Requirement already satisfied: future>=0.16.0 in /usr/local/lib/python3.7/dist-packages (from clearml) (0.16.0)\n",
            "Requirement already satisfied: orderedmultidict>=1.0.1 in /usr/local/lib/python3.7/dist-packages (from furl>=2.0.0->clearml) (1.0.1)\n",
            "Requirement already satisfied: idna<3,>=2.5 in /usr/local/lib/python3.7/dist-packages (from requests>=2.20.0->clearml) (2.10)\n",
            "Requirement already satisfied: certifi>=2017.4.17 in /usr/local/lib/python3.7/dist-packages (from requests>=2.20.0->clearml) (2020.12.5)\n",
            "Requirement already satisfied: chardet<4,>=3.0.2 in /usr/local/lib/python3.7/dist-packages (from requests>=2.20.0->clearml) (3.0.4)\n",
            "Requirement already satisfied: clearml-agent in /usr/local/lib/python3.7/dist-packages (1.0.0)\n",
            "Requirement already satisfied: typing<3.8.0,>=3.6.4 in /usr/local/lib/python3.7/dist-packages (from clearml-agent) (3.7.4.3)\n",
            "Requirement already satisfied: requests<2.26.0,>=2.20.0 in /usr/local/lib/python3.7/dist-packages (from clearml-agent) (2.23.0)\n",
            "Requirement already satisfied: jsonschema<3.3.0,>=2.6.0 in /usr/local/lib/python3.7/dist-packages (from clearml-agent) (2.6.0)\n",
            "Requirement already satisfied: six<1.16.0,>=1.11.0 in /usr/local/lib/python3.7/dist-packages (from clearml-agent) (1.15.0)\n",
            "Requirement already satisfied: future<0.19.0,>=0.16.0 in /usr/local/lib/python3.7/dist-packages (from clearml-agent) (0.16.0)\n",
            "Requirement already satisfied: pathlib2<2.4.0,>=2.3.0 in /usr/local/lib/python3.7/dist-packages (from clearml-agent) (2.3.5)\n",
            "Requirement already satisfied: python-dateutil<2.9.0,>=2.4.2 in /usr/local/lib/python3.7/dist-packages (from clearml-agent) (2.8.1)\n",
            "Requirement already satisfied: urllib3<1.27.0,>=1.21.1 in /usr/local/lib/python3.7/dist-packages (from clearml-agent) (1.24.3)\n",
            "Requirement already satisfied: PyYAML<5.4.0,>=3.12 in /usr/local/lib/python3.7/dist-packages (from clearml-agent) (3.13)\n",
            "Requirement already satisfied: pyhocon<0.4.0,>=0.3.38 in /usr/local/lib/python3.7/dist-packages (from clearml-agent) (0.3.57)\n",
            "Requirement already satisfied: virtualenv<21,>=16 in /usr/local/lib/python3.7/dist-packages (from clearml-agent) (20.4.7)\n",
            "Requirement already satisfied: furl<2.2.0,>=2.0.0 in /usr/local/lib/python3.7/dist-packages (from clearml-agent) (2.1.2)\n",
            "Requirement already satisfied: psutil<5.9.0,>=3.4.2 in /usr/local/lib/python3.7/dist-packages (from clearml-agent) (5.4.8)\n",
            "Requirement already satisfied: pyjwt<2.1.0,>=1.6.4 in /usr/local/lib/python3.7/dist-packages (from clearml-agent) (2.0.1)\n",
            "Requirement already satisfied: attrs<20.4.0,>=18.0 in /usr/local/lib/python3.7/dist-packages (from clearml-agent) (20.3.0)\n",
            "Requirement already satisfied: pyparsing<2.5.0,>=2.0.3 in /usr/local/lib/python3.7/dist-packages (from clearml-agent) (2.4.7)\n",
            "Requirement already satisfied: idna<3,>=2.5 in /usr/local/lib/python3.7/dist-packages (from requests<2.26.0,>=2.20.0->clearml-agent) (2.10)\n",
            "Requirement already satisfied: chardet<4,>=3.0.2 in /usr/local/lib/python3.7/dist-packages (from requests<2.26.0,>=2.20.0->clearml-agent) (3.0.4)\n",
            "Requirement already satisfied: certifi>=2017.4.17 in /usr/local/lib/python3.7/dist-packages (from requests<2.26.0,>=2.20.0->clearml-agent) (2020.12.5)\n",
            "Requirement already satisfied: filelock<4,>=3.0.0 in /usr/local/lib/python3.7/dist-packages (from virtualenv<21,>=16->clearml-agent) (3.0.12)\n",
            "Requirement already satisfied: appdirs<2,>=1.4.3 in /usr/local/lib/python3.7/dist-packages (from virtualenv<21,>=16->clearml-agent) (1.4.4)\n",
            "Requirement already satisfied: importlib-metadata>=0.12; python_version < \"3.8\" in /usr/local/lib/python3.7/dist-packages (from virtualenv<21,>=16->clearml-agent) (4.0.1)\n",
            "Requirement already satisfied: distlib<1,>=0.3.1 in /usr/local/lib/python3.7/dist-packages (from virtualenv<21,>=16->clearml-agent) (0.3.1)\n",
            "Requirement already satisfied: orderedmultidict>=1.0.1 in /usr/local/lib/python3.7/dist-packages (from furl<2.2.0,>=2.0.0->clearml-agent) (1.0.1)\n",
            "Requirement already satisfied: typing-extensions>=3.6.4; python_version < \"3.8\" in /usr/local/lib/python3.7/dist-packages (from importlib-metadata>=0.12; python_version < \"3.8\"->virtualenv<21,>=16->clearml-agent) (3.7.4.3)\n",
            "Requirement already satisfied: zipp>=0.5 in /usr/local/lib/python3.7/dist-packages (from importlib-metadata>=0.12; python_version < \"3.8\"->virtualenv<21,>=16->clearml-agent) (3.4.1)\n"
          ],
          "name": "stdout"
        }
      ]
    },
    {
      "cell_type": "markdown",
      "metadata": {
        "id": "gb41kM8i1-7T"
      },
      "source": [
        "## Step 2: Export this environment variable\n",
        "\n",
        "This environment variable makes Matplotlib work in headless mode, so it won't output graphs to the screen"
      ]
    },
    {
      "cell_type": "code",
      "metadata": {
        "id": "3-Bm4811VMLK"
      },
      "source": [
        "! export MPLBACKEND=TkAg\n"
      ],
      "execution_count": 12,
      "outputs": []
    },
    {
      "cell_type": "markdown",
      "metadata": {
        "id": "chuUzBaU2NyB"
      },
      "source": [
        "## Step 3: Create new credentials: \n",
        "1. Go to your profile in the [ClearML WebApp](https://app.community.clear.ml/). \n",
        "1. Under the **WORKSPACES** section, go to **App Credentials**, and click **+ Create new credentials**\n",
        "1. Copy your credentials"
      ]
    },
    {
      "cell_type": "markdown",
      "metadata": {
        "id": "1Kloxwfj0Vnq"
      },
      "source": [
        "## Step 4: Set your ClearML Credentials\n",
        "\n",
        "Insert the credentials you created in Step 3. \n",
        "\n",
        "If you aren't using the ClearML hosted server, make sure to modify the server variables. "
      ]
    },
    {
      "cell_type": "code",
      "metadata": {
        "id": "YBPdmP4sJHnQ"
      },
      "source": [
        "#@title Insert your own Credentials\n",
        "\n",
        "from clearml import Task\n",
        "\n",
        "web_server = 'https://app.community.clear.ml'#@param {type:\"string\"}  \n",
        "api_server = 'https://api.community.clear.ml'#@param {type:\"string\"} \n",
        "files_server = 'https://files.community.clear.ml'#@param {type:\"string\"}\n",
        "access_key = ''#@param {type:\"string\"}\n",
        "secret_key = ''#@param {type:\"string\"}\n",
        "\n",
        "Task.set_credentials(web_host=web_server,\n",
        "                     api_host=api_server,\n",
        "                     files_host=files_server,\n",
        "                     key=access_key,\n",
        "                     secret=secret_key\n",
        "                     )\n",
        "  \n"
      ],
      "execution_count": 13,
      "outputs": []
    },
    {
      "cell_type": "code",
      "metadata": {
        "id": "DStY3iZnRpYb"
      },
      "source": [
        ""
      ],
      "execution_count": null,
      "outputs": []
    },
    {
      "cell_type": "markdown",
      "metadata": {
        "id": "Er3HUBty4m7i"
      },
      "source": [
        "## Step 4: Run clearml-agent"
      ]
    },
    {
      "cell_type": "code",
      "metadata": {
        "id": "QcczeU7OJ9G-",
        "colab": {
          "base_uri": "https://localhost:8080/"
        },
        "outputId": "7df2e055-7b70-4656-8592-debcfb5c945f"
      },
      "source": [
        "!clearml-agent daemon --queue default"
      ],
      "execution_count": 14,
      "outputs": [
        {
          "output_type": "stream",
          "text": [
            "Current configuration (clearml_agent v1.0.0, location: None):\n",
            "----------------------\n",
            "agent.worker_id = \n",
            "agent.worker_name = 26efd6f10700\n",
            "agent.force_git_ssh_protocol = false\n",
            "agent.python_binary = \n",
            "agent.package_manager.type = pip\n",
            "agent.package_manager.pip_version = <20.2\n",
            "agent.package_manager.system_site_packages = false\n",
            "agent.package_manager.force_upgrade = false\n",
            "agent.package_manager.conda_channels.0 = pytorch\n",
            "agent.package_manager.conda_channels.1 = conda-forge\n",
            "agent.package_manager.conda_channels.2 = defaults\n",
            "agent.package_manager.torch_nightly = false\n",
            "agent.venvs_dir = /root/.clearml/venvs-builds\n",
            "agent.venvs_cache.max_entries = 10\n",
            "agent.venvs_cache.free_space_threshold_gb = 2.0\n",
            "agent.vcs_cache.enabled = true\n",
            "agent.vcs_cache.path = /root/.clearml/vcs-cache\n",
            "agent.venv_update.enabled = false\n",
            "agent.pip_download_cache.enabled = true\n",
            "agent.pip_download_cache.path = /root/.clearml/pip-download-cache\n",
            "agent.translate_ssh = true\n",
            "agent.reload_config = false\n",
            "agent.docker_pip_cache = /root/.clearml/pip-cache\n",
            "agent.docker_apt_cache = /root/.clearml/apt-cache\n",
            "agent.docker_force_pull = false\n",
            "agent.default_docker.image = nvidia/cuda:10.1-cudnn7-runtime-ubuntu18.04\n",
            "agent.enable_task_env = false\n",
            "agent.default_python = 3.7\n",
            "agent.cuda_version = 110\n",
            "agent.cudnn_version = 80\n",
            "sdk.storage.cache.default_base_dir = ~/.clearml/cache\n",
            "sdk.storage.cache.size.min_free_bytes = 10GB\n",
            "sdk.storage.direct_access.0.url = file://*\n",
            "sdk.metrics.file_history_size = 100\n",
            "sdk.metrics.matplotlib_untitled_history_size = 100\n",
            "sdk.metrics.images.format = JPEG\n",
            "sdk.metrics.images.quality = 87\n",
            "sdk.metrics.images.subsampling = 0\n",
            "sdk.metrics.tensorboard_single_series_per_graph = false\n",
            "sdk.network.metrics.file_upload_threads = 4\n",
            "sdk.network.metrics.file_upload_starvation_warning_sec = 120\n",
            "sdk.network.iteration.max_retries_on_server_error = 5\n",
            "sdk.network.iteration.retry_backoff_factor_sec = 10\n",
            "sdk.aws.s3.key = \n",
            "sdk.aws.s3.region = \n",
            "sdk.aws.boto3.pool_connections = 512\n",
            "sdk.aws.boto3.max_multipart_concurrency = 16\n",
            "sdk.log.null_log_propagate = false\n",
            "sdk.log.task_log_buffer_capacity = 66\n",
            "sdk.log.disable_urllib3_info = true\n",
            "sdk.development.task_reuse_time_window_in_hours = 72.0\n",
            "sdk.development.vcs_repo_detect_async = true\n",
            "sdk.development.store_uncommitted_code_diff = true\n",
            "sdk.development.support_stopping = true\n",
            "sdk.development.default_output_uri = \n",
            "sdk.development.force_analyze_entire_repo = false\n",
            "sdk.development.suppress_update_message = false\n",
            "sdk.development.detect_with_pip_freeze = false\n",
            "sdk.development.worker.report_period_sec = 2\n",
            "sdk.development.worker.ping_period_sec = 30\n",
            "sdk.development.worker.log_stdout = true\n",
            "sdk.development.worker.report_global_mem_used = false\n",
            "api.version = 1.5\n",
            "api.verify_certificate = true\n",
            "api.default_version = 1.5\n",
            "api.http.max_req_size = 15728640\n",
            "api.http.retries.total = 240\n",
            "api.http.retries.connect = 240\n",
            "api.http.retries.read = 240\n",
            "api.http.retries.redirect = 240\n",
            "api.http.retries.status = 240\n",
            "api.http.retries.backoff_factor = 1.0\n",
            "api.http.retries.backoff_max = 120.0\n",
            "api.http.wait_on_maintenance_forever = true\n",
            "api.http.pool_maxsize = 512\n",
            "api.http.pool_connections = 512\n",
            "api.api_server = https://api.community.clear.ml\n",
            "api.files_server = https://files.community.clear.ml\n",
            "api.web_server = https://app.community.clear.ml\n",
            "api.credentials.access_key = I9VVCS0N338KIQSVZ5H3\n",
            "\n",
            "Worker \"26efd6f10700:gpuall\" - Listening to queues:\n",
            "+----------------------------------+---------+-------+\n",
            "| id                               | name    | tags  |\n",
            "+----------------------------------+---------+-------+\n",
            "| 083a16bd89fe4673b0f112f1df84d71f | default |       |\n",
            "+----------------------------------+---------+-------+\n",
            "\n",
            "Running CLEARML-AGENT daemon in background mode, writing stdout/stderr to /tmp/.clearml_agent_daemon_out4jddc05o.txt\n"
          ],
          "name": "stdout"
        }
      ]
    }
  ]
}