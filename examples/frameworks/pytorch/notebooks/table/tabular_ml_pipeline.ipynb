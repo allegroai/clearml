{
 "cells": [
  {
   "cell_type": "code",
   "execution_count": null,
   "metadata": {},
   "outputs": [],
   "source": [
    "# pip install with locked versions\n",
    "! pip install -U pip\n",
    "! pip install -U clearml==0.16.2rc0"
   ]
  },
  {
   "cell_type": "code",
   "execution_count": null,
   "metadata": {},
   "outputs": [],
   "source": [
    "from clearml import Task\n",
    "from clearml.automation.controller import PipelineController"
   ]
  },
  {
   "cell_type": "code",
   "execution_count": null,
   "metadata": {},
   "outputs": [],
   "source": [
    "TABULAR_DATASET_ID = Task.get_task(task_name=\"Download and split tabular dataset\", project_name=\"Tabular Example\").id\n",
    "\n",
    "pipe = PipelineController(    \n",
    "    project=\"Tabular Example\",\n",
    "    name=\"tabular training pipeline\", \n",
    "    add_pipeline_tags=True, \n",
    "    version=\"0.1\"\n",
    ")\n",
    "pipe.set_default_execution_queue(default_execution_queue=\"default\")\n",
    "pipe.add_step(\n",
    "    name=\"preprocessing_1\",\n",
    "    base_task_project=\"Tabular Example\",\n",
    "    base_task_name=\"tabular preprocessing\",\n",
    "    parameter_override={\n",
    "        \"General/data_task_id\": TABULAR_DATASET_ID,\n",
    "        \"General/fill_categorical_NA\": \"True\",\n",
    "        \"General/fill_numerical_NA\": \"True\",\n",
    "    },\n",
    ")\n",
    "\n",
    "pipe.add_step(\n",
    "    name=\"preprocessing_2\",\n",
    "    base_task_project=\"Tabular Example\",\n",
    "    base_task_name=\"tabular preprocessing\",\n",
    "    parameter_override={\n",
    "        \"General/data_task_id\": TABULAR_DATASET_ID,\n",
    "        \"General/fill_categorical_NA\": \"False\",\n",
    "        \"General/fill_numerical_NA\": \"True\",\n",
    "    },\n",
    ")\n",
    "pipe.add_step(\n",
    "    name=\"train_1\",\n",
    "    parents=[\"preprocessing_1\"],\n",
    "    base_task_project=\"Tabular Example\",\n",
    "    base_task_name=\"tabular prediction\",\n",
    "    parameter_override={\"General/data_task_id\": \"${preprocessing_1.id}\"},\n",
    ")\n",
    "pipe.add_step(\n",
    "    name=\"train_2\",\n",
    "    parents=[\"preprocessing_2\"],\n",
    "    base_task_project=\"Tabular Example\",\n",
    "    base_task_name=\"tabular prediction\",\n",
    "    parameter_override={\"General/data_task_id\": \"${preprocessing_2.id}\"},\n",
    ")\n",
    "\n",
    "pipe.add_step(\n",
    "    name=\"pick_best\",\n",
    "    parents=[\"train_1\", \"train_2\"],\n",
    "    base_task_project=\"Tabular Example\",\n",
    "    base_task_name=\"pick best model\",\n",
    "    parameter_override={\"General/train_tasks_ids\": \"[${train_1.id}, ${train_2.id}]\"},\n",
    ")"
   ]
  },
  {
   "cell_type": "code",
   "execution_count": null,
   "metadata": {},
   "outputs": [],
   "source": [
    "# Starting the pipeline (in the background)\n",
    "pipe.start()\n",
    "# Wait until pipeline terminates\n",
    "pipe.wait()\n",
    "# cleanup everything\n",
    "pipe.stop()"
   ]
  }
 ],
 "metadata": {
  "kernelspec": {
   "display_name": "Python 3",
   "language": "python",
   "name": "python3"
  },
  "language_info": {
   "codemirror_mode": {
    "name": "ipython",
    "version": 3
   },
   "file_extension": ".py",
   "mimetype": "text/x-python",
   "name": "python",
   "nbconvert_exporter": "python",
   "pygments_lexer": "ipython3",
   "version": "3.8.5"
  }
 },
 "nbformat": 4,
 "nbformat_minor": 4
}
